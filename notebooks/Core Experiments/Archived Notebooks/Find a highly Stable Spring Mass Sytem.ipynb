{
 "cells": [
  {
   "cell_type": "markdown",
   "id": "0e9c6e4c-af3a-42a4-aa33-a5e16a145a54",
   "metadata": {},
   "source": [
    "# Find a highly stable spring-mass system"
   ]
  },
  {
   "cell_type": "code",
   "execution_count": 68,
   "id": "5b9de717-403f-4492-ba57-8a43883244eb",
   "metadata": {},
   "outputs": [],
   "source": [
    "import numpy as np\n",
    "from Environment import SpringMass\n",
    "from matplotlib import pyplot as plt"
   ]
  },
  {
   "cell_type": "code",
   "execution_count": 73,
   "id": "1f638740-6a36-4e9c-a898-f082fc0ec138",
   "metadata": {},
   "outputs": [],
   "source": [
    "def evaluate(space_dim,dt,K_m_dt,l_m_dt):\n",
    "    O = np.zeros((space_dim,space_dim))\n",
    "    I = np.eye(space_dim)\n",
    "\n",
    "    A = np.vstack([np.hstack([O,dt*I]),\n",
    "                   np.hstack([-K_m_dt*I,-l_m_dt*I])]) + np.eye(2*space_dim)\n",
    "\n",
    "    return  np.max(np.abs(np.linalg.eigvals(A)))\n",
    "\n",
    "dt = 0.1\n",
    "space_dim = 1\n",
    "m = 1\n",
    "\n",
    "candidate_param = np.random.rand(100,2) * 5\n",
    "istar = np.argmin([evaluate(space_dim,dt,K_m_dt,l_m_dt) for (K_m_dt,l_m_dt) in candidate_param])\n",
    "\n",
    "K_star, l_star = candidate_param[istar]\n",
    "\n",
    "evaluate(space_dim,dt,K_star,l_star)\n",
    "\n",
    "K_star,l_star\n",
    "\n",
    "K = K_star * m/dt\n",
    "\n",
    "l = l_star*m/dt\n",
    "\n",
    "x_0 = np.array([5,0]).reshape(-1,1)\n",
    "env = SpringMass(x_0 = x_0,m=1,K_stab = K,l=l)\n",
    "A = env.A\n",
    "\n",
    "np.linalg.eigvals(A)\n",
    "\n",
    "time_steps = 200\n",
    "x_no_control_hist = []\n",
    "# main loop\n",
    "for _ in range(time_steps):\n",
    "    x = env.state()\n",
    "    u = 0 \n",
    "        \n",
    "    env.step(u)\n",
    "    \n",
    "    \n",
    "    x_no_control_hist.append(x)\n",
    "    \n",
    "    if _%100 == 0:\n",
    "        print('Step',_)\n",
    "\n",
    "\n",
    "# plt.plot(np.array(x_hist)[:,0],label='SafeDAP')\n",
    "plt.plot(np.array(x_no_control_hist)[:,0],label='No control')\n",
    "plt.xlabel('t')\n",
    "plt.ylabel('x')\n",
    "plt.legend()"
   ]
  }
 ],
 "metadata": {
  "kernelspec": {
   "display_name": "Python 3 (ipykernel)",
   "language": "python",
   "name": "python3"
  },
  "language_info": {
   "codemirror_mode": {
    "name": "ipython",
    "version": 3
   },
   "file_extension": ".py",
   "mimetype": "text/x-python",
   "name": "python",
   "nbconvert_exporter": "python",
   "pygments_lexer": "ipython3",
   "version": "3.9.5"
  }
 },
 "nbformat": 4,
 "nbformat_minor": 5
}
