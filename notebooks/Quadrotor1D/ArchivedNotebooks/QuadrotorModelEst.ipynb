{
 "cells": [
  {
   "cell_type": "code",
   "execution_count": 11,
   "id": "e4ae36bc-aefc-452e-8510-27d5f07cd11e",
   "metadata": {},
   "outputs": [
    {
     "name": "stdout",
     "output_type": "stream",
     "text": [
      "The autoreload extension is already loaded. To reload it, use:\n",
      "  %reload_ext autoreload\n"
     ]
    }
   ],
   "source": [
    "import numpy as np\n",
    "import cvxpy as cp\n",
    "from matplotlib import pyplot as plt\n",
    "\n",
    "from time import time\n",
    "from functools import partial\n",
    "\n",
    "import sys\n",
    "sys.path.append('../../')\n",
    "\n",
    "from Environment import Quadrotor1D\n",
    "from Subroutines import QuadrotorEst,ApproxDAP,max_norm,find_stable_radius,SafeTransit,spectral_radius\n",
    "from time import time\n",
    "from Controllers import SafeDAP\n",
    "from scipy.linalg import sqrtm\n",
    "import pickle as pkl\n",
    "%load_ext autoreload\n",
    "%autoreload 2"
   ]
  },
  {
   "cell_type": "code",
   "execution_count": 12,
   "id": "db48e90c-12d2-450d-8254-06db4ae041a2",
   "metadata": {},
   "outputs": [],
   "source": [
    "class TimeStepsReached(Exception):\n",
    "    pass\n",
    "def evaluate(space_dim,dt,K_m_dt,l_m_dt):\n",
    "    O = np.zeros((space_dim,space_dim))\n",
    "    I = np.eye(space_dim)\n",
    "\n",
    "    A = np.vstack([np.hstack([O,dt*I]),\n",
    "                   np.hstack([-K_m_dt*I,-l_m_dt*I])]) + np.eye(2*space_dim)\n",
    "\n",
    "    return  np.max(np.abs(np.linalg.eigvals(A)))"
   ]
  },
  {
   "cell_type": "markdown",
   "id": "8c6ce7e1-4bf8-4b81-b610-1af5c79ae606",
   "metadata": {},
   "source": [
    "# Set up the system"
   ]
  },
  {
   "cell_type": "code",
   "execution_count": 13,
   "id": "d1d31959-7a58-4ae8-a9a4-a083d09addec",
   "metadata": {},
   "outputs": [],
   "source": [
    "m = 1\n",
    "K_stab = np.array([[2/3,1]])\n",
    "l = 0.25\n",
    "dt = 1\n",
    "w_max = 0.2\n",
    "\n",
    "env=Quadrotor1D(m,K_stab,l,w_max,dt)"
   ]
  },
  {
   "cell_type": "markdown",
   "id": "d9586e83-5645-4810-a5b2-78b307cbdde4",
   "metadata": {},
   "source": [
    "# $\\Theta_{ini}$"
   ]
  },
  {
   "cell_type": "code",
   "execution_count": 14,
   "id": "78bddab0-bf38-435f-be0e-f68fb2189165",
   "metadata": {},
   "outputs": [],
   "source": [
    "alpha_limit = (0.5,1.2)\n",
    "beta_limit = (0.2,0.4)"
   ]
  },
  {
   "cell_type": "markdown",
   "id": "5dce7c98-6d4c-45af-807e-24688c488494",
   "metadata": {},
   "source": [
    "# Optimization Parameters"
   ]
  },
  {
   "cell_type": "code",
   "execution_count": 15,
   "id": "c5574f33-8898-4cad-b22b-36a286eacf41",
   "metadata": {},
   "outputs": [],
   "source": [
    "# Constants\n",
    "x_dim = env.AK.shape[-1]\n",
    "u_dim = env.B.shape[-1]\n",
    "\n",
    "\n",
    "I_x = np.eye(x_dim)  \n",
    "I_u = np.eye(u_dim)  \n",
    "\n",
    "w_cov = np.eye(x_dim) * env.w_max * 1/12 # Assume uniform distribution.\n",
    "\n",
    "# Cost matrices\n",
    "\n",
    "Q = np.array([[1,0],\n",
    "                [0,1]])*1\n",
    "R = np.eye(u_dim)*1\n",
    "\n",
    "# Constraints\n",
    "\n",
    "x_max = 5\n",
    "x_min = -1\n",
    "\n",
    "v_max = 2\n",
    "v_min = -2\n",
    "\n",
    "u_max = 5\n",
    "u_min = -9.8\n",
    "\n",
    "D_x = np.vstack([I_x,-I_x]) # Constraints\n",
    "d_x = np.array([x_max,v_max,-x_min,-v_min])\n",
    "\n",
    "D_u = np.vstack([I_u,-I_u])\n",
    "d_u = np.array([u_max,-u_min])\n",
    "\n",
    "# Lookback lengths\n",
    "H=10\n",
    "H_benchmark = 40\n",
    "\n",
    "M0 = np.zeros((H,u_dim,x_dim))\n",
    "\n",
    "e_x = 0 # Usually e_x is not zero \n",
    "e_u = 0 # For safe DAP with known B, e_u = 0\n",
    "\n",
    "refit_per_step = 50\n",
    "pre_run_steps = 2\n",
    "TD_steps  = 30 # The least number of steps taken in Phase 1.\n",
    "\n",
    "# eta_bars = [0.1,0.5,1.0,1.5,2.0]\n",
    "eta_bars = [0.1]"
   ]
  },
  {
   "cell_type": "markdown",
   "id": "44e05430-a572-48bd-9656-353f139d955a",
   "metadata": {},
   "source": [
    "# Save a copy of the parameters we have"
   ]
  },
  {
   "cell_type": "code",
   "execution_count": 16,
   "id": "b6b7a789-4f40-41a8-adaf-d4763e154ca2",
   "metadata": {},
   "outputs": [],
   "source": [
    "params = {'Q':Q,'R':R,'D_x':D_x,'d_x':d_x,'D_u':D_u,'d_u':d_u,\\\n",
    "          'alpha_limit':alpha_limit,'beta_limit':beta_limit,\\\n",
    "          'H':H,'H_benchmark':H_benchmark,'eta_bars':eta_bars,\\\n",
    "          'AK':env.AK,'B':env.B,\\\n",
    "          'w_max':w_max,'K_stab':K_stab,'l':l,'m':m,'dt':dt}\n",
    "with open('./data/Parameters.pkl','wb') as f:\n",
    "    pkl.dump(params,f)"
   ]
  },
  {
   "cell_type": "markdown",
   "id": "bc319d20-94be-4993-8a17-42a86c45d16a",
   "metadata": {},
   "source": [
    "# Experiments"
   ]
  },
  {
   "cell_type": "code",
   "execution_count": 7,
   "id": "c615cd9d-ea97-4841-a018-6911d3035bfe",
   "metadata": {},
   "outputs": [],
   "source": [
    "\n",
    "def PlainSim(timesteps,n_trials):\n",
    "    \n",
    "    def main_loop():\n",
    "        env=Quadrotor1D(m,K_stab,l,w_max,dt)\n",
    "        \n",
    "        x_no_control_hist = []\n",
    "        # main loop\n",
    "        for _ in range(timesteps):\n",
    "            x = env.state()\n",
    "            u = 0 \n",
    "            env.step(u)\n",
    "\n",
    "            x_no_control_hist.append(x)\n",
    "\n",
    "            if _%100 == 0:\n",
    "                print('Step',_)\n",
    "\n",
    "        data = {}\n",
    "        data['x'] = x_no_control_hist\n",
    "        return data\n",
    "    \n",
    "    trial_data = []\n",
    "    _ = 0 \n",
    "    while _ < n_trials: \n",
    "        t = time()\n",
    "        print('Trial {}'.format(_))\n",
    "        trial_data.append(main_loop())\n",
    "        _+=1\n",
    "\n",
    "        print('Time for trial:',time()-t)\n",
    "    return trial_data\n",
    "\n",
    "def BenchmarkSim(timesteps,n_trials,unconstrained=False,with_K_stab = False):\n",
    "\n",
    "    def main_loop(M):\n",
    "        # Reset the environment\n",
    "        env=Quadrotor1D(m,K_stab,l,w_max,dt)\n",
    "        \n",
    "        x_true_hist = []\n",
    "        u_true_hist = []\n",
    "        w_true_hist = [np.zeros((x_dim,1)) for _ in range(10*H_benchmark)]\n",
    "\n",
    "        # main loop \n",
    "        for _ in range(timesteps):\n",
    "            x = env.state()\n",
    "            x_true_hist.append(x)\n",
    "            if _<pre_run_steps:\n",
    "                u = (np.random.rand()-0.5)*2*0\n",
    "            else:\n",
    "                u = ApproxDAP(M,w_true_hist,0)\n",
    "\n",
    "            env.step(u)\n",
    "            u_true_hist.append(u)\n",
    "\n",
    "            w_true_hist.append(env.state()-env.AK.dot(x_true_hist[-1])-env.B.dot(u_true_hist[-1]))\n",
    "\n",
    "            if _%100 == 0:\n",
    "                print('Step',_)\n",
    "\n",
    "        # Prepare data output\n",
    "        data = {}\n",
    "        data['x'] = x_true_hist\n",
    "        data['u'] = u_true_hist\n",
    "        data['w'] = w_true_hist\n",
    "        \n",
    "#         print(data['w'])\n",
    "        return data\n",
    "\n",
    "\n",
    "\n",
    "    safeDapSolver = SafeDAP(Q,R,D_x,d_x,D_u,d_u,w_max,w_cov)\n",
    "\n",
    "    if with_K_stab:    \n",
    "        if unconstrained:\n",
    "            M,Phi = safeDapSolver.solve(env.AK,env.B,H_benchmark,e_x=e_x,e_u=e_u,unconstrained=True,K_stab=K_stab)\n",
    "        else:\n",
    "            M,Phi = safeDapSolver.solve(env.AK,env.B,H_benchmark,e_x=e_x,e_u=e_u,K_stab=K_stab)\n",
    "    else:        \n",
    "        if unconstrained:\n",
    "            M,Phi = safeDapSolver.solve(env.AK,env.B,H_benchmark,e_x=e_x,e_u=e_u,unconstrained=True)\n",
    "        else:\n",
    "            M,Phi = safeDapSolver.solve(env.AK,env.B,H_benchmark,e_x=e_x,e_u=e_u)\n",
    "\n",
    "        \n",
    "#     print('M',M)\n",
    "\n",
    "    trial_data = []\n",
    "    _ = 0 \n",
    "    while _ < n_trials: \n",
    "\n",
    "        print('Trial {}'.format(_))\n",
    "        trial_data.append(main_loop(M))\n",
    "        _+=1\n",
    "        \n",
    "    return trial_data    "
   ]
  },
  {
   "cell_type": "code",
   "execution_count": 8,
   "id": "052fbf3c-6383-44b0-8845-00f12e3244e3",
   "metadata": {
    "tags": []
   },
   "outputs": [
    {
     "name": "stdout",
     "output_type": "stream",
     "text": [
      "ConstrainedDAP_with_Kstab starts.\n",
      "Trial 0\n",
      "Step 0\n",
      "Step 100\n",
      "Step 200\n",
      "Step 300\n",
      "Trial 1\n",
      "Step 0\n",
      "Step 100\n",
      "Step 200\n",
      "Step 300\n",
      "Trial 2\n",
      "Step 0\n",
      "Step 100\n",
      "Step 200\n",
      "Step 300\n",
      "Total Time for ConstrainedDAP_with_Kstab: 2.32442307472229\n",
      "ConstrainedDAP_without_Kstab starts.\n",
      "Trial 0\n",
      "Step 0\n",
      "Step 100\n",
      "Step 200\n",
      "Step 300\n",
      "Trial 1\n",
      "Step 0\n",
      "Step 100\n",
      "Step 200\n",
      "Step 300\n",
      "Trial 2\n",
      "Step 0\n",
      "Step 100\n",
      "Step 200\n",
      "Step 300\n",
      "Total Time for ConstrainedDAP_without_Kstab: 2.240206480026245\n",
      "UnconstrainedDAP_with_Kstab starts.\n",
      "Trial 0\n",
      "Step 0\n",
      "Step 100\n",
      "Step 200\n",
      "Step 300\n",
      "Trial 1\n",
      "Step 0\n",
      "Step 100\n",
      "Step 200\n",
      "Step 300\n",
      "Trial 2\n",
      "Step 0\n",
      "Step 100\n",
      "Step 200\n",
      "Step 300\n",
      "Total Time for UnconstrainedDAP_with_Kstab: 0.9362409114837646\n",
      "UnconstrainedDAP_without_Kstab starts.\n",
      "Trial 0\n",
      "Step 0\n",
      "Step 100\n",
      "Step 200\n",
      "Step 300\n",
      "Trial 1\n",
      "Step 0\n",
      "Step 100\n",
      "Step 200\n",
      "Step 300\n",
      "Trial 2\n",
      "Step 0\n",
      "Step 100\n",
      "Step 200\n",
      "Step 300\n",
      "Total Time for UnconstrainedDAP_without_Kstab: 0.9232039451599121\n"
     ]
    }
   ],
   "source": [
    "\n",
    "n_trials = 3\n",
    "timesteps = 400\n",
    "\n",
    "alg_dict = {\n",
    "    'ConstrainedDAP_with_Kstab':partial(BenchmarkSim,unconstrained=False,with_K_stab=True),\n",
    "    'UnconstrainedDAP':partial(BenchmarkSim,unconstrained=True,with_K_stab=True),\n",
    "              }\n",
    "\n",
    "\n",
    "for key, alg in alg_dict.items():\n",
    "    print(\"{} starts.\".format(key))\n",
    "    \n",
    "    t = time()\n",
    "      \n",
    "\n",
    "    trial_data = alg(timesteps,n_trials)\n",
    "    with open('./data/{}.pkl'.format(key),'wb') as f:\n",
    "        pkl.dump(trial_data,f)\n",
    "    \n",
    "    print('Total Time for {}:'.format(key),time()-t)\n"
   ]
  },
  {
   "cell_type": "code",
   "execution_count": 9,
   "id": "873e105f-fc6e-4d07-95bb-fe4fba31e9b3",
   "metadata": {},
   "outputs": [],
   "source": [
    "est = QuadrotorEst(K_stab,dt,alpha_limit,beta_limit)"
   ]
  },
  {
   "cell_type": "code",
   "execution_count": 10,
   "id": "f63c99ac-dc44-4e5f-9899-9257ff801c39",
   "metadata": {},
   "outputs": [
    {
     "data": {
      "text/plain": [
       "(array([[1. , 1. ],\n",
       "        [0. , 0.6]]),\n",
       " array([[0. ],\n",
       "        [0.5]]),\n",
       " 0.12262786789699316)"
      ]
     },
     "execution_count": 10,
     "metadata": {},
     "output_type": "execute_result"
    }
   ],
   "source": [
    "est.est(np.array(trial_data[0]['x']).reshape(-1,x_dim),np.array(trial_data[0]['u'][:-1]).reshape(-1,u_dim))"
   ]
  }
 ],
 "metadata": {
  "kernelspec": {
   "display_name": "Python 3 (ipykernel)",
   "language": "python",
   "name": "python3"
  },
  "language_info": {
   "codemirror_mode": {
    "name": "ipython",
    "version": 3
   },
   "file_extension": ".py",
   "mimetype": "text/x-python",
   "name": "python",
   "nbconvert_exporter": "python",
   "pygments_lexer": "ipython3",
   "version": "3.9.5"
  }
 },
 "nbformat": 4,
 "nbformat_minor": 5
}
