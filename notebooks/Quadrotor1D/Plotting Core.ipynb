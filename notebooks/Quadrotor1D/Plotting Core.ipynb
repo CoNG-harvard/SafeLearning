{
 "cells": [
  {
   "cell_type": "code",
   "execution_count": 1,
   "id": "56cc7aab-9c50-4691-ac51-d9e96e451caf",
   "metadata": {},
   "outputs": [],
   "source": [
    "import numpy as np\n",
    "from matplotlib import pyplot as plt\n",
    "import pickle as pkl"
   ]
  },
  {
   "cell_type": "code",
   "execution_count": 2,
   "id": "2dab7576-1e23-47cd-84fe-7300b5c84f2d",
   "metadata": {},
   "outputs": [],
   "source": [
    "plt.rcParams.update({'font.size': 15})"
   ]
  },
  {
   "cell_type": "markdown",
   "id": "4b842491-b177-4451-a52b-11fe4b0158b9",
   "metadata": {},
   "source": [
    "## The plotting handler"
   ]
  },
  {
   "cell_type": "code",
   "execution_count": 3,
   "id": "bea26b56-5e04-4c64-8930-d3c971ab0b1f",
   "metadata": {},
   "outputs": [],
   "source": [
    "def plot_with_errorband(ax,trial_data,indices = None,label=''):\n",
    "    mu = np.mean(trial_data,axis=0)\n",
    "    std = np.std(trial_data,axis=0)\n",
    "\n",
    "    if indices is None:\n",
    "        indices = range(len(mu))\n",
    "    \n",
    "    ax.plot(indices,np.array(mu),label=label)\n",
    "    ax.fill_between(indices,mu+std,mu-std,alpha=0.2)"
   ]
  },
  {
   "cell_type": "code",
   "execution_count": 4,
   "id": "6ff28702-cc17-4afc-a798-7c2e3f2ed976",
   "metadata": {},
   "outputs": [],
   "source": [
    "def cost(Q,hist):\n",
    "    n_trial = hist.shape[0]\n",
    "    timesteps = hist.shape[1]\n",
    "    Q_cost = [hist[i,j].T.dot(Q).dot(hist[i,j]) for i in range(n_trial) for j in range(timesteps)]\n",
    "\n",
    "    Q_cost = np.array(Q_cost).reshape(n_trial,timesteps)\n",
    "    return Q_cost"
   ]
  },
  {
   "cell_type": "markdown",
   "id": "d1cb99e2-d834-49d7-8fbc-281d71acb0bf",
   "metadata": {},
   "source": [
    "# Total LQR Cost vs $\\bar{\\eta}$"
   ]
  },
  {
   "cell_type": "code",
   "execution_count": 5,
   "id": "88fe9e1f-bed7-46c9-812c-8783f3e0f867",
   "metadata": {},
   "outputs": [],
   "source": [
    "etas = [1e-4,1e-3,0.01,0.1]\n",
    "# etas = [0.1]\n",
    "control_alg = ['SafeLearning_eta_{}'.format(eta) for eta in etas] + ['ConstrainedDAP']"
   ]
  },
  {
   "cell_type": "code",
   "execution_count": 6,
   "id": "5b3bc445-98d6-40be-8269-b57fd06c3e05",
   "metadata": {},
   "outputs": [
    {
     "name": "stdout",
     "output_type": "stream",
     "text": [
      "SafeLearning_eta_0.0001 136.5466895787455 10.769256171798858\n",
      "SafeLearning_eta_0.001 134.04134003351572 9.227084229076072\n",
      "SafeLearning_eta_0.01 43.769646117824564 1.6057027861399837\n",
      "SafeLearning_eta_0.1 137.9561892618657 11.210050344012487\n",
      "ConstrainedDAP 424.6936459208053 22.529755113958515\n"
     ]
    }
   ],
   "source": [
    "data = {}\n",
    "  \n",
    "costs = {alg:[] for alg in control_alg}\n",
    "\n",
    "with open('./data/Parameters.pkl','rb') as f:\n",
    "    data['Parameters'] = pkl.load(f)\n",
    "\n",
    "Q = data['Parameters']['Q']\n",
    "R = data['Parameters']['R']\n",
    "AK = data['Parameters']['AK']\n",
    "\n",
    "A = data['Parameters']['A']\n",
    "B = data['Parameters']['B']\n",
    "\n",
    "\n",
    "for alg in control_alg:\n",
    "\n",
    "    with open('./data/{}.pkl'.format(alg),'rb') as f:\n",
    "        data[alg] = pkl.load(f)\n",
    "\n",
    "\n",
    "    mean_cost = []\n",
    "    std_cost = []\n",
    "\n",
    "    x_hist = np.array([d['x'] for d in data[alg]])\n",
    "    u_hist = np.array([d['u'] for d in data[alg]])\n",
    "    \n",
    "    print(alg,np.sum(cost(Q,x_hist)),np.sum(cost(R,u_hist[:,:,np.newaxis,np.newaxis])))\n",
    "    costs[alg] = cost(Q,x_hist)+cost(R,u_hist[:,:,np.newaxis,np.newaxis])      \n",
    "\n"
   ]
  },
  {
   "cell_type": "markdown",
   "id": "ae1dc5ea-72a6-44e7-bc17-edff30afac4e",
   "metadata": {},
   "source": [
    "## LQR Stage Regret vs $t$"
   ]
  },
  {
   "cell_type": "code",
   "execution_count": 7,
   "id": "4c4e85f9-4b37-4539-9dae-754d693eda03",
   "metadata": {},
   "outputs": [
    {
     "ename": "ValueError",
     "evalue": "operands could not be broadcast together with shapes (3,400) (10,400) ",
     "output_type": "error",
     "traceback": [
      "\u001b[0;31m---------------------------------------------------------------------------\u001b[0m",
      "\u001b[0;31mValueError\u001b[0m                                Traceback (most recent call last)",
      "\u001b[0;32m/tmp/ipykernel_25977/2554674513.py\u001b[0m in \u001b[0;36m<module>\u001b[0;34m\u001b[0m\n\u001b[1;32m      4\u001b[0m \u001b[0;31m#     plot_with_errorband(ax,item,label=key)\u001b[0m\u001b[0;34m\u001b[0m\u001b[0;34m\u001b[0m\u001b[0;34m\u001b[0m\u001b[0m\n\u001b[1;32m      5\u001b[0m     \u001b[0;32mif\u001b[0m \u001b[0mkey\u001b[0m\u001b[0;34m!=\u001b[0m\u001b[0;34m'ConstrainedDAP'\u001b[0m\u001b[0;34m:\u001b[0m\u001b[0;34m\u001b[0m\u001b[0;34m\u001b[0m\u001b[0m\n\u001b[0;32m----> 6\u001b[0;31m         \u001b[0mplot_with_errorband\u001b[0m\u001b[0;34m(\u001b[0m\u001b[0max\u001b[0m\u001b[0;34m,\u001b[0m\u001b[0mitem\u001b[0m\u001b[0;34m-\u001b[0m\u001b[0mcosts\u001b[0m\u001b[0;34m[\u001b[0m\u001b[0;34m'ConstrainedDAP'\u001b[0m\u001b[0;34m]\u001b[0m\u001b[0;34m,\u001b[0m\u001b[0mlabel\u001b[0m\u001b[0;34m=\u001b[0m\u001b[0mkey\u001b[0m\u001b[0;34m)\u001b[0m\u001b[0;34m\u001b[0m\u001b[0;34m\u001b[0m\u001b[0m\n\u001b[0m\u001b[1;32m      7\u001b[0m \u001b[0;34m\u001b[0m\u001b[0m\n\u001b[1;32m      8\u001b[0m \u001b[0max\u001b[0m\u001b[0;34m.\u001b[0m\u001b[0mset_ylabel\u001b[0m\u001b[0;34m(\u001b[0m\u001b[0;34m'Stage Regret'\u001b[0m\u001b[0;34m)\u001b[0m\u001b[0;34m\u001b[0m\u001b[0;34m\u001b[0m\u001b[0m\n",
      "\u001b[0;31mValueError\u001b[0m: operands could not be broadcast together with shapes (3,400) (10,400) "
     ]
    },
    {
     "data": {
      "image/png": "[encoded data removed]",
      "text/plain": [
       "<Figure size 1200x800 with 1 Axes>"
      ]
     },
     "metadata": {
      "needs_background": "light"
     },
     "output_type": "display_data"
    }
   ],
   "source": [
    "plt.figure(dpi=200)\n",
    "ax = plt.gca()\n",
    "for key,item in costs.items():\n",
    "#     plot_with_errorband(ax,item,label=key)\n",
    "    if key!='ConstrainedDAP':\n",
    "        plot_with_errorband(ax,item-costs['ConstrainedDAP'],label=key)\n",
    "\n",
    "ax.set_ylabel('Stage Regret')\n",
    "ax.set_xlabel(r'$t$')\n",
    "ax.legend()\n",
    "\n",
    "plt.tight_layout()\n",
    "plt.savefig('./figures/StageRegret.png')\n",
    "plt.show()\n",
    "\n"
   ]
  },
  {
   "cell_type": "code",
   "execution_count": null,
   "id": "2d43a8e9-6cf2-491f-9594-08a4f5327bd0",
   "metadata": {},
   "outputs": [],
   "source": [
    "plt.figure(dpi=200)\n",
    "ax = plt.gca()\n",
    "for key,item in costs.items():\n",
    "#     plot_with_errorband(ax,item,label=key)\n",
    "    if key!='ConstrainedDAP':\n",
    "        plot_with_errorband(ax,np.cumsum(item-costs['ConstrainedDAP'],axis=-1),label=key)\n",
    "\n",
    "ax.set_ylabel('Cumulative Regret')\n",
    "ax.set_xlabel(r'$t$')\n",
    "ax.legend()\n",
    "\n",
    "plt.tight_layout()\n",
    "plt.savefig('./figures/CumulativeRegret.png')\n",
    "plt.show()"
   ]
  },
  {
   "cell_type": "code",
   "execution_count": null,
   "id": "7c51cdc5-4ab6-460f-b544-4c724e53d6cb",
   "metadata": {},
   "outputs": [],
   "source": [
    "plt.figure(dpi=200)\n",
    "ax = plt.gca()\n",
    "\n",
    "for key,item in costs.items():\n",
    "#     plot_with_errorband(ax,item,label=key)\n",
    "    if key!='ConstrainedDAP':\n",
    "        times = np.arange(item.shape[1])+1\n",
    "        plot_with_errorband(ax,np.cumsum(item-costs['ConstrainedDAP'],axis=-1)/times,label=key)\n",
    "\n",
    "\n",
    "ax.set_ylabel(r'$\\frac{Cumulative~Regret}{t}$')\n",
    "ax.set_xlabel(r'$t$')\n",
    "ax.legend()\n",
    "plt.tight_layout()\n",
    "plt.savefig('./figures/AveCumulativeRegret.png')\n",
    "plt.show()"
   ]
  },
  {
   "cell_type": "markdown",
   "id": "118cf015-f6bb-4d8e-8e0a-1d971d9ee9be",
   "metadata": {},
   "source": [
    "## Estimation error vs t."
   ]
  },
  {
   "cell_type": "code",
   "execution_count": null,
   "id": "b468593c-4e23-4a98-9526-8d1531f5282f",
   "metadata": {},
   "outputs": [],
   "source": [
    "\n",
    "\n",
    "for key,item in data.items():\n",
    "    \n",
    "    if key!='ConstrainedDAP' and key!='Parameters':\n",
    "        plt.figure(dpi=200)\n",
    "        ax = plt.gca()\n",
    "        \n",
    "        thetas = [d['theta'] for d in item]\n",
    "\n",
    "        As = np.array([[t[0] for t in theta_hist] for theta_hist in thetas])\n",
    "        Bs = np.array([[t[1] for t in theta_hist] for theta_hist in thetas])\n",
    "#         print(As[-1],Bs[-1])\n",
    "        # As.shape = (# trials, # refits, x_dim, x_dim)\n",
    "        # Bs.shape = (# trials, # refits, x_dim, u_dim)\n",
    "\n",
    "        A_diff = np.linalg.norm(As-A,'fro',axis=(-1,-2))\n",
    "        B_diff = np.linalg.norm(Bs-B,'fro',axis=(-1,-2))\n",
    "        theta_diff = np.sqrt(A_diff**2+B_diff**2)\n",
    "        \n",
    "        \n",
    "        \n",
    "        plot_with_errorband(ax,theta_diff,1+np.arange(theta_diff.shape[1],),label=key)\n",
    "        ax.set_xticks(range(1,theta_diff.shape[1]+1))\n",
    "        ax.set_ylabel(r'$||\\hat{\\theta}-\\theta||_F$')\n",
    "        ax.set_xlabel(r'Episode')\n",
    "        ax.legend()\n",
    "        plt.show()\n",
    "\n",
    "\n",
    "#         plt.figure(dpi=200)\n",
    "#         ax = plt.gca()\n",
    "#         plot_with_errorband(ax,A_diff,50*2*np.arange(A_diff.shape[1],))\n",
    "#         ax.set_ylabel(r'$||\\hat{A}-A||_F$')\n",
    "#         ax.set_xlabel(r'$t$')\n",
    "#         plt.show()\n",
    "\n",
    "#         plt.figure(dpi=200)\n",
    "#         ax = plt.gca()\n",
    "#         plot_with_errorband(ax,B_diff,50*np.arange(A_diff.shape[1]))\n",
    "#         ax.set_ylabel(r'$||\\hat{B}-B||_F$')\n",
    "#         ax.set_xlabel(r'$t$')\n",
    "#         plt.show()"
   ]
  }
 ],
 "metadata": {
  "kernelspec": {
   "display_name": "Python 3 (ipykernel)",
   "language": "python",
   "name": "python3"
  },
  "language_info": {
   "codemirror_mode": {
    "name": "ipython",
    "version": 3
   },
   "file_extension": ".py",
   "mimetype": "text/x-python",
   "name": "python",
   "nbconvert_exporter": "python",
   "pygments_lexer": "ipython3",
   "version": "3.9.5"
  }
 },
 "nbformat": 4,
 "nbformat_minor": 5
}
