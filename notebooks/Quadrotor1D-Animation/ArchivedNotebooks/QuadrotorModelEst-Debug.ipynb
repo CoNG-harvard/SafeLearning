{
 "cells": [
  {
   "cell_type": "code",
   "execution_count": 1,
   "id": "e4ae36bc-aefc-452e-8510-27d5f07cd11e",
   "metadata": {},
   "outputs": [],
   "source": [
    "import numpy as np\n",
    "import cvxpy as cp\n",
    "from matplotlib import pyplot as plt\n",
    "\n",
    "from time import time\n",
    "from functools import partial\n",
    "\n",
    "import sys\n",
    "sys.path.append('../../')\n",
    "\n",
    "from Environment import Quadrotor1D\n",
    "from Subroutines import QuadrotorEst,ApproxDAP,max_norm,find_stable_radius,SafeTransit,spectral_radius\n",
    "from time import time\n",
    "from Controllers import SafeDAP\n",
    "from scipy.linalg import sqrtm\n",
    "import pickle as pkl\n",
    "%load_ext autoreload\n",
    "%autoreload 2"
   ]
  },
  {
   "cell_type": "code",
   "execution_count": 2,
   "id": "db48e90c-12d2-450d-8254-06db4ae041a2",
   "metadata": {},
   "outputs": [],
   "source": [
    "class TimeStepsReached(Exception):\n",
    "    pass\n",
    "def evaluate(space_dim,dt,K_m_dt,l_m_dt):\n",
    "    O = np.zeros((space_dim,space_dim))\n",
    "    I = np.eye(space_dim)\n",
    "\n",
    "    A = np.vstack([np.hstack([O,dt*I]),\n",
    "                   np.hstack([-K_m_dt*I,-l_m_dt*I])]) + np.eye(2*space_dim)\n",
    "\n",
    "    return  np.max(np.abs(np.linalg.eigvals(A)))"
   ]
  },
  {
   "cell_type": "markdown",
   "id": "8c6ce7e1-4bf8-4b81-b610-1af5c79ae606",
   "metadata": {},
   "source": [
    "# Set up the system"
   ]
  },
  {
   "cell_type": "code",
   "execution_count": 3,
   "id": "d1d31959-7a58-4ae8-a9a4-a083d09addec",
   "metadata": {},
   "outputs": [],
   "source": [
    "m = 1\n",
    "K_stab = np.array([[2/3,1]])\n",
    "l = 0.25\n",
    "# l = 0.0\n",
    "\n",
    "dt = 1\n",
    "w_max = 0.2\n",
    "\n",
    "env=Quadrotor1D(m,K_stab,l,w_max,dt)"
   ]
  },
  {
   "cell_type": "markdown",
   "id": "d9586e83-5645-4810-a5b2-78b307cbdde4",
   "metadata": {},
   "source": [
    "# $\\Theta_{ini}$"
   ]
  },
  {
   "cell_type": "code",
   "execution_count": 4,
   "id": "78bddab0-bf38-435f-be0e-f68fb2189165",
   "metadata": {},
   "outputs": [],
   "source": [
    "alpha_limit = (0.5,1.2)\n",
    "beta_limit = (0.2,0.4)"
   ]
  },
  {
   "cell_type": "markdown",
   "id": "5dce7c98-6d4c-45af-807e-24688c488494",
   "metadata": {},
   "source": [
    "# Optimization Parameters"
   ]
  },
  {
   "cell_type": "code",
   "execution_count": 5,
   "id": "c5574f33-8898-4cad-b22b-36a286eacf41",
   "metadata": {},
   "outputs": [],
   "source": [
    "# Constants\n",
    "x_dim = env.AK.shape[-1]\n",
    "u_dim = env.B.shape[-1]\n",
    "\n",
    "\n",
    "I_x = np.eye(x_dim)  \n",
    "I_u = np.eye(u_dim)  \n",
    "\n",
    "w_cov = np.eye(x_dim) * env.w_max * 1/12 # Assume uniform distribution.\n",
    "\n",
    "# Cost matrices\n",
    "\n",
    "Q = np.array([[1,0],\n",
    "                [0,1]])*1\n",
    "R = np.eye(u_dim)*1\n",
    "\n",
    "# Constraints\n",
    "\n",
    "x_max = 5\n",
    "x_min = -1\n",
    "\n",
    "v_max = 2\n",
    "v_min = -2\n",
    "\n",
    "u_max = 5\n",
    "u_min = -9.8\n",
    "\n",
    "D_x = np.vstack([I_x,-I_x]) # Constraints\n",
    "d_x = np.array([x_max,v_max,-x_min,-v_min])\n",
    "\n",
    "D_u = np.vstack([I_u,-I_u])\n",
    "d_u = np.array([u_max,-u_min])\n",
    "\n",
    "# Lookback lengths\n",
    "H=10\n",
    "H_benchmark = 40\n",
    "\n",
    "M0 = np.zeros((H,u_dim,x_dim))\n",
    "\n",
    "e_x = 0 # Usually e_x is not zero \n",
    "e_u = 0 # For safe DAP with known B, e_u = 0\n",
    "\n",
    "refit_per_step = 50\n",
    "pre_run_steps = 2\n",
    "TD_steps  = 30 # The least number of steps taken in Phase 1.\n",
    "\n",
    "# eta_bars = [0.1,0.5,1.0,1.5,2.0]\n",
    "eta_bars = [0.1]"
   ]
  },
  {
   "cell_type": "markdown",
   "id": "bc319d20-94be-4993-8a17-42a86c45d16a",
   "metadata": {},
   "source": [
    "# Experiments"
   ]
  },
  {
   "cell_type": "code",
   "execution_count": 6,
   "id": "c615cd9d-ea97-4841-a018-6911d3035bfe",
   "metadata": {},
   "outputs": [],
   "source": [
    "\n",
    "def PlainSim(timesteps,n_trials):\n",
    "    \n",
    "    def main_loop():\n",
    "        env=Quadrotor1D(m,K_stab,l,w_max,dt)\n",
    "        \n",
    "        x_hist = []\n",
    "        u_hist = []\n",
    "        # main loop\n",
    "        for _ in range(timesteps):\n",
    "            x = env.state()\n",
    "            x_hist.append(x)\n",
    "            \n",
    "            u = 0.1*(np.random.rand()-0.5) \n",
    "            u_hist.append(u)\n",
    "            env.step(u)\n",
    "            \n",
    "            if _%100 == 0:\n",
    "                print('Step',_)\n",
    "\n",
    "        data = {}\n",
    "        data['x'] = x_hist\n",
    "        data['u'] = u_hist\n",
    "        return data\n",
    "    \n",
    "    trial_data = []\n",
    "    _ = 0 \n",
    "    while _ < n_trials: \n",
    "        t = time()\n",
    "        print('Trial {}'.format(_))\n",
    "        trial_data.append(main_loop())\n",
    "        _+=1\n",
    "\n",
    "        print('Time for trial:',time()-t)\n",
    "    return trial_data "
   ]
  },
  {
   "cell_type": "code",
   "execution_count": 7,
   "id": "052fbf3c-6383-44b0-8845-00f12e3244e3",
   "metadata": {
    "tags": []
   },
   "outputs": [
    {
     "name": "stdout",
     "output_type": "stream",
     "text": [
      "Trial 0\n",
      "Step 0\n",
      "Step 100\n",
      "Step 200\n",
      "Step 300\n",
      "Time for trial: 0.010774612426757812\n"
     ]
    }
   ],
   "source": [
    "n_trials = 1\n",
    "timesteps = 400\n",
    "      \n",
    "\n",
    "trial_data = PlainSim(timesteps,n_trials)\n"
   ]
  },
  {
   "cell_type": "code",
   "execution_count": 8,
   "id": "873e105f-fc6e-4d07-95bb-fe4fba31e9b3",
   "metadata": {},
   "outputs": [],
   "source": [
    "est = QuadrotorEst(np.array([[2/3,1]]),dt,alpha_limit,beta_limit)"
   ]
  },
  {
   "cell_type": "code",
   "execution_count": 9,
   "id": "91886a48-7799-4693-8c23-8ef4855a1717",
   "metadata": {},
   "outputs": [],
   "source": [
    "x_hist = np.array(trial_data[0]['x']).reshape(-1,x_dim)\n",
    "u_hist = np.array(trial_data[0]['u'][:-1]).reshape(-1,u_dim)"
   ]
  },
  {
   "cell_type": "code",
   "execution_count": 10,
   "id": "e92f8eba-202f-4311-9fb9-ed6cd23d5d65",
   "metadata": {},
   "outputs": [
    {
     "name": "stdout",
     "output_type": "stream",
     "text": [
      "15.83637764137229 [[1.         1.        ]\n",
      " [0.         0.64641295]]\n"
     ]
    },
    {
     "data": {
      "text/plain": [
       "(array([[1.        , 1.        ],\n",
       "        [0.        , 0.64641295]]),\n",
       " array([[0.       ],\n",
       "        [0.9059553]]),\n",
       " 0.12262786789699316)"
      ]
     },
     "execution_count": 10,
     "metadata": {},
     "output_type": "execute_result"
    }
   ],
   "source": [
    "est.est(x_hist,u_hist)"
   ]
  },
  {
   "cell_type": "code",
   "execution_count": 11,
   "id": "fc005484-22b3-4e36-9246-dd4c75706038",
   "metadata": {},
   "outputs": [
    {
     "data": {
      "text/plain": [
       "15.83637764137229"
      ]
     },
     "execution_count": 11,
     "metadata": {},
     "output_type": "execute_result"
    }
   ],
   "source": [
    "alpha = cp.Variable(nonneg = True )\n",
    "beta = cp.Variable(nonneg = True)\n",
    "\n",
    "x_t = x_hist[:-1,:]\n",
    "x_t_1 = x_hist[1:,:]\n",
    "\n",
    "A_hat = cp.vstack([cp.hstack([1,dt]),cp.hstack([0,1-beta])])\n",
    "B_hat = cp.vstack([0,alpha])\n",
    "\n",
    "objective = cp.Minimize(cp.sum_squares(x_t_1.T - ((A_hat-B_hat @ K_stab) @ x_t.T + B_hat @ u_hist.T )))\n",
    "\n",
    "prob = cp.Problem(objective)\n",
    "\n",
    "prob.solve()"
   ]
  }
 ],
 "metadata": {
  "kernelspec": {
   "display_name": "Python 3 (ipykernel)",
   "language": "python",
   "name": "python3"
  },
  "language_info": {
   "codemirror_mode": {
    "name": "ipython",
    "version": 3
   },
   "file_extension": ".py",
   "mimetype": "text/x-python",
   "name": "python",
   "nbconvert_exporter": "python",
   "pygments_lexer": "ipython3",
   "version": "3.9.5"
  }
 },
 "nbformat": 4,
 "nbformat_minor": 5
}
